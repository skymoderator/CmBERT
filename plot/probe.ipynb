{
 "cells": [
  {
   "cell_type": "code",
   "execution_count": 1,
   "metadata": {},
   "outputs": [
    {
     "name": "stderr",
     "output_type": "stream",
     "text": [
      "c:\\Users\\choi1\\Downloads\\CmBERT\\.venv\\lib\\site-packages\\tqdm\\auto.py:21: TqdmWarning: IProgress not found. Please update jupyter and ipywidgets. See https://ipywidgets.readthedocs.io/en/stable/user_install.html\n",
      "  from .autonotebook import tqdm as notebook_tqdm\n"
     ]
    }
   ],
   "source": [
    "import os\n",
    "project_path = 'C://Users//choi1//Downloads//CmBERT'\n",
    "os.environ[\"HF_HOME\"] = project_path\n",
    "import sys\n",
    "sys.path.append(project_path)\n",
    "from os.path import join\n",
    "import torch\n",
    "import torch.nn as nn\n",
    "from model import Seq2Seq\n",
    "from transformers import (\n",
    "    WEIGHTS_NAME,\n",
    "    AdamW,\n",
    "    get_linear_schedule_with_warmup,\n",
    "    RobertaConfig,\n",
    "    RobertaModel,\n",
    "    RobertaTokenizer,\n",
    ")\n",
    "import re"
   ]
  },
  {
   "cell_type": "code",
   "execution_count": 34,
   "metadata": {},
   "outputs": [],
   "source": [
    "model_path = join(project_path, \"output//python//20231028_204326//checkpoint-best-bleu//pytorch_model.bin\")\n",
    "model_name = \"microsoft/codebert-base\""
   ]
  },
  {
   "cell_type": "code",
   "execution_count": 35,
   "metadata": {},
   "outputs": [
    {
     "data": {
      "text/plain": [
       "Seq2Seq(\n",
       "  (encoder): RobertaModel(\n",
       "    (embeddings): RobertaEmbeddings(\n",
       "      (word_embeddings): Embedding(50265, 768, padding_idx=1)\n",
       "      (position_embeddings): Embedding(514, 768, padding_idx=1)\n",
       "      (token_type_embeddings): Embedding(1, 768)\n",
       "      (LayerNorm): LayerNorm((768,), eps=1e-05, elementwise_affine=True)\n",
       "      (dropout): Dropout(p=0.1, inplace=False)\n",
       "    )\n",
       "    (encoder): RobertaEncoder(\n",
       "      (layer): ModuleList(\n",
       "        (0-11): 12 x RobertaLayer(\n",
       "          (attention): RobertaAttention(\n",
       "            (self): RobertaSelfAttention(\n",
       "              (query): Linear(in_features=768, out_features=768, bias=True)\n",
       "              (key): Linear(in_features=768, out_features=768, bias=True)\n",
       "              (value): Linear(in_features=768, out_features=768, bias=True)\n",
       "              (dropout): Dropout(p=0.1, inplace=False)\n",
       "            )\n",
       "            (output): RobertaSelfOutput(\n",
       "              (dense): Linear(in_features=768, out_features=768, bias=True)\n",
       "              (LayerNorm): LayerNorm((768,), eps=1e-05, elementwise_affine=True)\n",
       "              (dropout): Dropout(p=0.1, inplace=False)\n",
       "            )\n",
       "          )\n",
       "          (intermediate): RobertaIntermediate(\n",
       "            (dense): Linear(in_features=768, out_features=3072, bias=True)\n",
       "            (intermediate_act_fn): GELUActivation()\n",
       "          )\n",
       "          (output): RobertaOutput(\n",
       "            (dense): Linear(in_features=3072, out_features=768, bias=True)\n",
       "            (LayerNorm): LayerNorm((768,), eps=1e-05, elementwise_affine=True)\n",
       "            (dropout): Dropout(p=0.1, inplace=False)\n",
       "          )\n",
       "        )\n",
       "      )\n",
       "    )\n",
       "    (pooler): RobertaPooler(\n",
       "      (dense): Linear(in_features=768, out_features=768, bias=True)\n",
       "      (activation): Tanh()\n",
       "    )\n",
       "  )\n",
       "  (decoder): TransformerDecoder(\n",
       "    (layers): ModuleList(\n",
       "      (0-5): 6 x TransformerDecoderLayer(\n",
       "        (self_attn): MultiheadAttention(\n",
       "          (out_proj): NonDynamicallyQuantizableLinear(in_features=768, out_features=768, bias=True)\n",
       "        )\n",
       "        (multihead_attn): MultiheadAttention(\n",
       "          (out_proj): NonDynamicallyQuantizableLinear(in_features=768, out_features=768, bias=True)\n",
       "        )\n",
       "        (linear1): Linear(in_features=768, out_features=2048, bias=True)\n",
       "        (dropout): Dropout(p=0.1, inplace=False)\n",
       "        (linear2): Linear(in_features=2048, out_features=768, bias=True)\n",
       "        (norm1): LayerNorm((768,), eps=1e-05, elementwise_affine=True)\n",
       "        (norm2): LayerNorm((768,), eps=1e-05, elementwise_affine=True)\n",
       "        (norm3): LayerNorm((768,), eps=1e-05, elementwise_affine=True)\n",
       "        (dropout1): Dropout(p=0.1, inplace=False)\n",
       "        (dropout2): Dropout(p=0.1, inplace=False)\n",
       "        (dropout3): Dropout(p=0.1, inplace=False)\n",
       "      )\n",
       "    )\n",
       "  )\n",
       "  (dense): Linear(in_features=768, out_features=768, bias=True)\n",
       "  (lm_head): Linear(in_features=768, out_features=50265, bias=False)\n",
       "  (lsm): LogSoftmax(dim=-1)\n",
       ")"
      ]
     },
     "execution_count": 35,
     "metadata": {},
     "output_type": "execute_result"
    }
   ],
   "source": [
    "config = RobertaConfig.from_pretrained(model_name)\n",
    "encoder = RobertaModel.from_pretrained(model_name, config=config)\n",
    "tokenizer = RobertaTokenizer.from_pretrained(model_name)\n",
    "decoder_layer = nn.TransformerDecoderLayer(\n",
    "    d_model=config.hidden_size, nhead=config.num_attention_heads\n",
    ")\n",
    "decoder = nn.TransformerDecoder(decoder_layer, num_layers=6)\n",
    "model = Seq2Seq(\n",
    "    encoder=encoder,\n",
    "    decoder=decoder,\n",
    "    config=config,\n",
    "    beam_size=10,\n",
    "    max_length=128,\n",
    "    sos_id=tokenizer.cls_token_id,\n",
    "    eos_id=tokenizer.sep_token_id,\n",
    ").to(\"cuda\")\n",
    "model.load_state_dict(torch.load(model_path), strict=False)\n",
    "model.eval()"
   ]
  },
  {
   "cell_type": "code",
   "execution_count": 36,
   "metadata": {},
   "outputs": [],
   "source": [
    "def process_fn(array):\n",
    "        return re.sub(\"[Ġ]{2,}\", \"\", \"\".join(array)).replace(\"Ġ\", \" \")"
   ]
  },
  {
   "cell_type": "code",
   "execution_count": 37,
   "metadata": {},
   "outputs": [],
   "source": [
    "added = [\"import\", \"Ġio\", \".\", \"qu\", \"ark\", \"us\", \".\", \"vert\", \"x\", \".\", \"core\", \".\", \"de\", \"ploy\", \"ment\", \".\", \"Event\", \"Consumer\", \"Business\", \"Method\", \"Item\", \";\", \"import\", \"Ġio\", \".\", \"qu\", \"ark\", \"us\", \".\", \"vert\", \"x\", \".\", \"core\", \".\", \"de\", \"ploy\", \"ment\", \".\", \"Internal\", \"Vert\", \"x\", \"Build\", \"Item\", \";\"]\n",
    "deleted = [\"import\", \"Ġio\", \".\", \"qu\", \"ark\", \"us\", \".\", \"vert\", \"x\", \".\", \"common\", \".\", \"de\", \"ploy\", \"ment\", \".\", \"Event\", \"Consumer\", \"Business\", \"Method\", \"Item\", \";\", \"import\", \"Ġio\", \".\", \"qu\", \"ark\", \"us\", \".\", \"vert\", \"x\", \".\", \"common\", \".\", \"de\", \"ploy\", \"ment\", \".\", \"Internal\", \"Vert\", \"x\", \"Build\", \"Item\", \";\"]"
   ]
  },
  {
   "cell_type": "code",
   "execution_count": 38,
   "metadata": {},
   "outputs": [],
   "source": [
    "input = tokenizer(process_fn(added))\n",
    "source_ids = torch.tensor(input[\"input_ids\"]).unsqueeze(0).to(\"cuda\")\n",
    "source_mask = torch.tensor(input[\"attention_mask\"]).unsqueeze(0).to(\"cuda\")"
   ]
  },
  {
   "cell_type": "code",
   "execution_count": 39,
   "metadata": {},
   "outputs": [
    {
     "name": "stdout",
     "output_type": "stream",
     "text": [
      "Rename EventConsumerItem to EventConsumer \n"
     ]
    }
   ],
   "source": [
    "with torch.no_grad():\n",
    "    with torch.cuda.amp.autocast():\n",
    "        preds = model(source_ids=source_ids, source_mask=source_mask)\n",
    "    for pred in preds:\n",
    "        t = pred[0].cpu().numpy()\n",
    "        t = list(t)\n",
    "        if 0 in t:\n",
    "            t = t[: t.index(0)]\n",
    "        text = tokenizer.decode(t, clean_up_tokenization_spaces=False)\n",
    "        print(text)"
   ]
  },
  {
   "cell_type": "code",
   "execution_count": 58,
   "metadata": {},
   "outputs": [],
   "source": [
    "def run_model(added: str, deleted: str):\n",
    "    input = tokenizer(\n",
    "        text=added + \" \" + deleted,\n",
    "        return_tensors=\"pt\",\n",
    "    )\n",
    "    # print(tokenizer.decode(input[\"input_ids\"][0]))\n",
    "    input = {k: v.to(\"cuda\") for k, v in input.items()}\n",
    "    with torch.no_grad():\n",
    "        with torch.cuda.amp.autocast():\n",
    "            preds = model(\n",
    "                source_ids=input[\"input_ids\"],\n",
    "                source_mask=input[\"attention_mask\"],\n",
    "            )\n",
    "        for pred in preds:\n",
    "            t = pred[0].cpu().numpy()\n",
    "            t = list(t)\n",
    "            # print(t)\n",
    "            if 0 in t:\n",
    "                t = t[: t.index(0)]\n",
    "            text = tokenizer.decode(t, clean_up_tokenization_spaces=False)\n",
    "            print(text)\n"
   ]
  },
  {
   "cell_type": "code",
   "execution_count": 67,
   "metadata": {},
   "outputs": [
    {
     "name": "stdout",
     "output_type": "stream",
     "text": [
      "change sub to add\n"
     ]
    }
   ],
   "source": [
    "added = \"def add(a, b): return a + b\"\n",
    "deleted = \"def sub(a, b): return a - b\"\n",
    "run_model(added, deleted)"
   ]
  },
  {
   "cell_type": "code",
   "execution_count": 60,
   "metadata": {},
   "outputs": [
    {
     "name": "stdout",
     "output_type": "stream",
     "text": [
      "CLN/ENH: Merge compat with py3compat and six\n"
     ]
    }
   ],
   "source": [
    "added = \"from pandas.util.compat import zip\"\n",
    "deleted = \"from pandas.util.py3compat import zip\"\n",
    "run_model(added, deleted)"
   ]
  },
  {
   "cell_type": "code",
   "execution_count": 61,
   "metadata": {},
   "outputs": [
    {
     "name": "stdout",
     "output_type": "stream",
     "text": [
      "Internal change\n"
     ]
    }
   ],
   "source": [
    "added = \"return output_errors if squared else np.sqrt(output_errors)\"\n",
    "deleted = \"return output_errors\"\n",
    "run_model(added, deleted)"
   ]
  },
  {
   "cell_type": "code",
   "execution_count": 62,
   "metadata": {},
   "outputs": [
    {
     "name": "stdout",
     "output_type": "stream",
     "text": [
      "Cosmetics\n"
     ]
    }
   ],
   "source": [
    "added = \"def log(x): return np.log(x)\"\n",
    "deleted = \"def exp(x): return np.exp(x)\"\n",
    "run_model(added, deleted)"
   ]
  },
  {
   "cell_type": "code",
   "execution_count": 68,
   "metadata": {},
   "outputs": [
    {
     "name": "stdout",
     "output_type": "stream",
     "text": [
      "Remove unused imports\n"
     ]
    }
   ],
   "source": [
    "added = \"import OpenSSL\"\n",
    "deleted = \"import OpenSSL.cryptoimport OpenSSL.SSL\"\n",
    "run_model(added, deleted)"
   ]
  },
  {
   "cell_type": "code",
   "execution_count": 69,
   "metadata": {},
   "outputs": [
    {
     "name": "stdout",
     "output_type": "stream",
     "text": [
      "Merged commit includes the following changes: \n"
     ]
    }
   ],
   "source": [
    "added = \"max_length = tokenizer.model_max_length\"\n",
    "deleted = \"max_length = tokenizer.max_len\"\n",
    "run_model(added, deleted)"
   ]
  },
  {
   "cell_type": "code",
   "execution_count": 70,
   "metadata": {},
   "outputs": [
    {
     "name": "stdout",
     "output_type": "stream",
     "text": [
      "[MRG+1] Increase learning rate for SGD \n"
     ]
    }
   ],
   "source": [
    "added = \"import pandas as pd n_hidden = 50 n_iteractions = 20000 learning_rate = 0.01\"\n",
    "deleted = \"n_hidden = 20 n_iteractions = 80000 learning_rate = 0.001\"\n",
    "run_model(added, deleted)"
   ]
  },
  {
   "cell_type": "code",
   "execution_count": null,
   "metadata": {},
   "outputs": [],
   "source": []
  }
 ],
 "metadata": {
  "kernelspec": {
   "display_name": ".venv",
   "language": "python",
   "name": "python3"
  },
  "language_info": {
   "codemirror_mode": {
    "name": "ipython",
    "version": 3
   },
   "file_extension": ".py",
   "mimetype": "text/x-python",
   "name": "python",
   "nbconvert_exporter": "python",
   "pygments_lexer": "ipython3",
   "version": "3.10.11"
  }
 },
 "nbformat": 4,
 "nbformat_minor": 2
}
