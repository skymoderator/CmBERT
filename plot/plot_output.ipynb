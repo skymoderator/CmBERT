{
 "cells": [
  {
   "cell_type": "code",
   "execution_count": 1,
   "metadata": {},
   "outputs": [
    {
     "name": "stderr",
     "output_type": "stream",
     "text": [
      "c:\\Users\\choi1\\Downloads\\CmBERT\\.venv\\lib\\site-packages\\tqdm\\auto.py:21: TqdmWarning: IProgress not found. Please update jupyter and ipywidgets. See https://ipywidgets.readthedocs.io/en/stable/user_install.html\n",
      "  from .autonotebook import tqdm as notebook_tqdm\n"
     ]
    }
   ],
   "source": [
    "import os\n",
    "project_path = 'C://Users//choi1//Downloads//CmBERT'\n",
    "os.environ[\"HF_HOME\"] = project_path\n",
    "import sys\n",
    "sys.path.append(project_path)\n",
    "from os.path import join\n",
    "import json\n",
    "import matplotlib.pyplot as plt\n",
    "import numpy as np\n",
    "import os\n",
    "import pandas as pd\n",
    "import seaborn as sns\n",
    "import sys\n",
    "from tqdm import tqdm\n",
    "import re\n",
    "from tqdm.contrib.concurrent import process_map\n",
    "from multiprocessing import Pool"
   ]
  },
  {
   "cell_type": "code",
   "execution_count": 2,
   "metadata": {},
   "outputs": [],
   "source": [
    "def process_fn(array):\n",
    "        return re.sub(\"[Ġ]{2,}\", \"\", \"\".join(array)).replace(\"Ġ\", \" \")"
   ]
  },
  {
   "cell_type": "code",
   "execution_count": 3,
   "metadata": {},
   "outputs": [],
   "source": [
    "languages = [\"go\", \"java\", \"javascript\", \"php\", \"python\", \"ruby\"]"
   ]
  },
  {
   "cell_type": "code",
   "execution_count": 13,
   "metadata": {},
   "outputs": [
    {
     "ename": "IndexError",
     "evalue": "list index out of range",
     "output_type": "error",
     "traceback": [
      "\u001b[1;31m---------------------------------------------------------------------------\u001b[0m",
      "\u001b[1;31mIndexError\u001b[0m                                Traceback (most recent call last)",
      "\u001b[1;32mc:\\Users\\choi1\\Downloads\\CmBERT\\plot\\plot_output.ipynb Cell 4\u001b[0m line \u001b[0;36m1\n\u001b[0;32m     <a href='vscode-notebook-cell:/c%3A/Users/choi1/Downloads/CmBERT/plot/plot_output.ipynb#W3sZmlsZQ%3D%3D?line=15'>16</a>\u001b[0m         \u001b[39mfor\u001b[39;00m _ \u001b[39min\u001b[39;00m \u001b[39mrange\u001b[39m(quota):\n\u001b[0;32m     <a href='vscode-notebook-cell:/c%3A/Users/choi1/Downloads/CmBERT/plot/plot_output.ipynb#W3sZmlsZQ%3D%3D?line=16'>17</a>\u001b[0m             line \u001b[39m=\u001b[39m f\u001b[39m.\u001b[39mreadline()\n\u001b[1;32m---> <a href='vscode-notebook-cell:/c%3A/Users/choi1/Downloads/CmBERT/plot/plot_output.ipynb#W3sZmlsZQ%3D%3D?line=17'>18</a>\u001b[0m             outputs\u001b[39m.\u001b[39mappend(line\u001b[39m.\u001b[39;49mstrip()\u001b[39m.\u001b[39;49msplit(\u001b[39m\"\u001b[39;49m\u001b[39m\\t\u001b[39;49;00m\u001b[39m\"\u001b[39;49m)[\u001b[39m1\u001b[39;49m])\n\u001b[0;32m     <a href='vscode-notebook-cell:/c%3A/Users/choi1/Downloads/CmBERT/plot/plot_output.ipynb#W3sZmlsZQ%3D%3D?line=18'>19</a>\u001b[0m     dfs\u001b[39m.\u001b[39mappend(pd\u001b[39m.\u001b[39mDataFrame({\u001b[39m\"\u001b[39m\u001b[39mlanguage\u001b[39m\u001b[39m\"\u001b[39m: [language] \u001b[39m*\u001b[39m quota, \u001b[39m\"\u001b[39m\u001b[39madded\u001b[39m\u001b[39m\"\u001b[39m: addeds, \u001b[39m\"\u001b[39m\u001b[39mdeleted\u001b[39m\u001b[39m\"\u001b[39m: deleteds, \u001b[39m\"\u001b[39m\u001b[39moutput\u001b[39m\u001b[39m\"\u001b[39m: outputs, \u001b[39m\"\u001b[39m\u001b[39mgold\u001b[39m\u001b[39m\"\u001b[39m: golds}))\n\u001b[0;32m     <a href='vscode-notebook-cell:/c%3A/Users/choi1/Downloads/CmBERT/plot/plot_output.ipynb#W3sZmlsZQ%3D%3D?line=19'>20</a>\u001b[0m dfs \u001b[39m=\u001b[39m pd\u001b[39m.\u001b[39mconcat(dfs)\n",
      "\u001b[1;31mIndexError\u001b[0m: list index out of range"
     ]
    }
   ],
   "source": [
    "dfs = []\n",
    "for language in languages:\n",
    "    quota = 40\n",
    "    path = join(project_path, \"data\", \"top100\", language, \"test.jsonl\")\n",
    "    addeds, deleteds, outputs, golds = [], [], [], []\n",
    "    with open(path, encoding=\"utf-8\", errors=\"ignore\") as f:\n",
    "        for _ in range(quota):\n",
    "            line = f.readline()\n",
    "            data = json.loads(line.strip())\n",
    "            addeds.append(process_fn(data[\"added\"]))\n",
    "            deleteds.append(process_fn(data[\"deleted\"]))\n",
    "            golds.append(process_fn(data[\"msg\"]))\n",
    "    path = join(project_path, \"output\", language)\n",
    "    path = join(path, os.listdir(path)[1], \"test_1.output\")\n",
    "    with open(path, encoding=\"utf-8\", errors=\"ignore\") as f:\n",
    "        for _ in range(quota):\n",
    "            line = f.readline()\n",
    "            splits = line.strip().split(\"\\t\")\n",
    "            outputs.append(splits[1] if len(splits) > 1 else None)\n",
    "    dfs.append(pd.DataFrame({\"language\": [language] * quota, \"added\": addeds, \"deleted\": deleteds, \"output\": outputs, \"gold\": golds}))\n",
    "dfs = pd.concat(dfs)"
   ]
  },
  {
   "cell_type": "code",
   "execution_count": null,
   "metadata": {},
   "outputs": [],
   "source": [
    "dfs.to_csv(join(project_path, \"plot\", \"plot_output.csv\"))"
   ]
  },
  {
   "cell_type": "code",
   "execution_count": 14,
   "metadata": {},
   "outputs": [
    {
     "data": {
      "text/plain": [
       "'38'"
      ]
     },
     "execution_count": 14,
     "metadata": {},
     "output_type": "execute_result"
    }
   ],
   "source": [
    "line.strip()"
   ]
  },
  {
   "cell_type": "code",
   "execution_count": 15,
   "metadata": {},
   "outputs": [
    {
     "data": {
      "text/plain": [
       "'C://Users//choi1//Downloads//CmBERT\\\\output\\\\php\\\\20231102_160100\\\\test_1.output'"
      ]
     },
     "execution_count": 15,
     "metadata": {},
     "output_type": "execute_result"
    }
   ],
   "source": [
    "path"
   ]
  },
  {
   "cell_type": "code",
   "execution_count": null,
   "metadata": {},
   "outputs": [],
   "source": []
  }
 ],
 "metadata": {
  "kernelspec": {
   "display_name": ".venv",
   "language": "python",
   "name": "python3"
  },
  "language_info": {
   "codemirror_mode": {
    "name": "ipython",
    "version": 3
   },
   "file_extension": ".py",
   "mimetype": "text/x-python",
   "name": "python",
   "nbconvert_exporter": "python",
   "pygments_lexer": "ipython3",
   "version": "3.10.11"
  }
 },
 "nbformat": 4,
 "nbformat_minor": 2
}
